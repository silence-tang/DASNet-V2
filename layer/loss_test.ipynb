{
 "cells": [
  {
   "cell_type": "code",
   "execution_count": 2,
   "metadata": {},
   "outputs": [],
   "source": [
    "import torch\n",
    "import torch.nn as nn\n",
    "import torch.nn.functional as F\n",
    "from torch.autograd import Variable\n",
    "import numpy as np"
   ]
  },
  {
   "cell_type": "code",
   "execution_count": 8,
   "metadata": {},
   "outputs": [
    {
     "data": {
      "text/plain": [
       "tensor(1947.2969)"
      ]
     },
     "execution_count": 8,
     "metadata": {},
     "output_type": "execute_result"
    }
   ],
   "source": [
    "x1 = torch.randn((1, 512, 32, 32))\n",
    "x2 = torch.randn((1, 512, 32, 32))\n",
    "y = (torch.randn((1, 32, 32)) > 0.5).float()\n",
    "\n",
    "diff = torch.abs(x1 - x2)\n",
    "\n",
    "dist_sq = torch.pow(diff + 1e-6, 2).sum(dim=1)  # 加一个微小扰动, sum(dim=1)沿通道方向求和，故输出尺寸为(1,32,32)\n",
    "\n",
    "dist = torch.sqrt(dist_sq)  # 求距离(L2)\n",
    "\n",
    "mdist_pos = torch.clamp(0.3-dist, min=0.0)  # m1 = 0.3, unchanged\n",
    "mdist_neg = torch.clamp(dist-2.2, min=0.0)  # m2 = 2.2, changed\n",
    "\n",
    "w1 = 1 / 0.147\n",
    "w2 = 1 / (1 - 0.147)\n",
    "loss_pos = w2 * ((1 - y) * (mdist_pos.pow(2)))  # 矩阵乘  w2小，使网络较为不关注unchanged pairs\n",
    "loss_neg = w1 * (y * (mdist_neg.pow(2)))        # 矩阵乘  w1大，使网络重点关注changed pairs\n",
    "\n",
    "loss = torch.mean(loss_pos + loss_neg)          # 原代码没加权\n",
    "loss"
   ]
  },
  {
   "cell_type": "code",
   "execution_count": 122,
   "metadata": {},
   "outputs": [
    {
     "data": {
      "text/plain": [
       "(tensor([[[0., 0., 0., 1.],\n",
       "          [0., 0., 0., 1.],\n",
       "          [1., 0., 0., 1.],\n",
       "          [1., 1., 0., 0.]]]),\n",
       " tensor([[[0.0000, 0.0000, 0.0000, 0.0000, 0.0000, 0.1429, 0.5714, 1.0000],\n",
       "          [0.0000, 0.0000, 0.0000, 0.0000, 0.0000, 0.1429, 0.5714, 1.0000],\n",
       "          [0.0000, 0.0000, 0.0000, 0.0000, 0.0000, 0.1429, 0.5714, 1.0000],\n",
       "          [0.2857, 0.1633, 0.0408, 0.0000, 0.0000, 0.1429, 0.5714, 1.0000],\n",
       "          [0.7143, 0.4082, 0.1020, 0.0000, 0.0000, 0.1429, 0.5714, 1.0000],\n",
       "          [1.0000, 0.6327, 0.2653, 0.1020, 0.0408, 0.1224, 0.4898, 0.8571],\n",
       "          [1.0000, 0.8163, 0.6327, 0.4082, 0.1633, 0.0612, 0.2449, 0.4286],\n",
       "          [1.0000, 1.0000, 1.0000, 0.7143, 0.2857, 0.0000, 0.0000, 0.0000]]]))"
      ]
     },
     "execution_count": 122,
     "metadata": {},
     "output_type": "execute_result"
    }
   ],
   "source": [
    "# 原始label可能尺寸小于feature，故插值构成新的label\n",
    "def rz_label(label, size):\n",
    "    gt_e = torch.unsqueeze(label, dim=1)\n",
    "    interp = nn.functional.interpolate(gt_e, (size[0],size[1]), mode='bilinear', align_corners=True)\n",
    "    gt_rz = torch.squeeze(interp, dim=1)\n",
    "    return gt_rz\n",
    "\n",
    "label = (torch.randn((1,4,4)) > 0.5).float()\n",
    "label, rz_label(label, (8,8))"
   ]
  }
 ],
 "metadata": {
  "kernelspec": {
   "display_name": "Python 3.6.13 ('gluon')",
   "language": "python",
   "name": "python3"
  },
  "language_info": {
   "codemirror_mode": {
    "name": "ipython",
    "version": 3
   },
   "file_extension": ".py",
   "mimetype": "text/x-python",
   "name": "python",
   "nbconvert_exporter": "python",
   "pygments_lexer": "ipython3",
   "version": "3.6.13"
  },
  "orig_nbformat": 4,
  "vscode": {
   "interpreter": {
    "hash": "9862ae77e9daaaf9c9239620ed827aad4ce184b3776eb7a3f75df899d88e405b"
   }
  }
 },
 "nbformat": 4,
 "nbformat_minor": 2
}
