{
 "cells": [
  {
   "cell_type": "code",
   "execution_count": 10,
   "metadata": {},
   "outputs": [],
   "source": [
    "import matplotlib as plt\n",
    "import numpy as np\n",
    "import cv2\n",
    "import torch"
   ]
  },
  {
   "cell_type": "code",
   "execution_count": 12,
   "metadata": {},
   "outputs": [],
   "source": [
    "for i in range(10000):\n",
    "    in_path_name = 'train/OUT/' + str(i).rjust(5, '0') + '.jpg'\n",
    "    out_path_name = 'train/OUT1/' + str(i).rjust(5, '0') + '.jpg'\n",
    "    tmp = cv2.imread(in_path_name, flags=0)\n",
    "    tmp_tensor = torch.tensor(tmp >= 128)\n",
    "    tmp_tensor = tmp_tensor.int()\n",
    "    tmp_after_img = tmp_tensor.numpy()\n",
    "    cv2.imwrite(out_path_name, tmp_after_img)"
   ]
  },
  {
   "cell_type": "code",
   "execution_count": null,
   "metadata": {},
   "outputs": [],
   "source": [
    "for i in range(2998):\n",
    "    in_path_name = 'val/OUT/' + str(i).rjust(5, '0') + '.jpg'\n",
    "    out_path_name = 'val/OUT1/' + str(i).rjust(5, '0') + '.jpg'\n",
    "    tmp = cv2.imread(in_path_name, flags=0)  # 读入为单通道灰度图\n",
    "    tmp_tensor = torch.tensor(tmp >= 128)\n",
    "    tmp_tensor = tmp_tensor.int()\n",
    "    tmp_after_img = tmp_tensor.numpy()\n",
    "    cv2.imwrite(out_path_name, tmp_after_img)"
   ]
  },
  {
   "cell_type": "code",
   "execution_count": 11,
   "metadata": {},
   "outputs": [],
   "source": [
    "for i in range(3000):\n",
    "    in_path_name = 'test/OUT/' + str(i).rjust(5, '0') + '.jpg'\n",
    "    out_path_name = 'test/OUT1/' + str(i).rjust(5, '0') + '.jpg'\n",
    "    tmp = cv2.imread(in_path_name, flags=0)\n",
    "    tmp_tensor = torch.tensor(tmp >= 128)\n",
    "    tmp_tensor = tmp_tensor.int()\n",
    "    tmp_after_img = tmp_tensor.numpy()\n",
    "    cv2.imwrite(out_path_name, tmp_after_img)"
   ]
  },
  {
   "cell_type": "code",
   "execution_count": 15,
   "metadata": {},
   "outputs": [],
   "source": [
    "new_file = open('train1.txt', 'w+')\n",
    "for line in open('train.txt'):\n",
    "    img0_name, img1_name, mask_name = line.strip(\"\\n\").split(' ')  # train/OUT/00000.jpg\n",
    "    mask_name_new = 'train/OUT1/' + mask_name.split(\"/\")[2] \n",
    "    line_new = img0_name + ' ' + img1_name + ' ' + mask_name_new\n",
    "    # print(line_new)\n",
    "    new_file.writelines(line_new + '\\n')\n",
    "    \n",
    "new_file.close()"
   ]
  },
  {
   "cell_type": "code",
   "execution_count": 16,
   "metadata": {},
   "outputs": [],
   "source": [
    "new_file = open('val1.txt', 'w+')\n",
    "for line in open('val.txt'):\n",
    "    img0_name, img1_name, mask_name = line.strip(\"\\n\").split(' ')  # train/OUT/00000.jpg\n",
    "    mask_name_new = 'val/OUT1/' + mask_name.split(\"/\")[2] \n",
    "    line_new = img0_name + ' ' + img1_name + ' ' + mask_name_new\n",
    "    # print(line_new)\n",
    "    new_file.writelines(line_new + '\\n')\n",
    "    \n",
    "new_file.close()"
   ]
  },
  {
   "cell_type": "code",
   "execution_count": 17,
   "metadata": {},
   "outputs": [],
   "source": [
    "new_file = open('test1.txt', 'w+')\n",
    "for line in open('test.txt'):\n",
    "    img0_name, img1_name, mask_name = line.strip(\"\\n\").split(' ')  # train/OUT/00000.jpg\n",
    "    mask_name_new = 'test/OUT1/' + mask_name.split(\"/\")[2] \n",
    "    line_new = img0_name + ' ' + img1_name + ' ' + mask_name_new\n",
    "    # print(line_new)\n",
    "    new_file.writelines(line_new + '\\n')\n",
    "    \n",
    "new_file.close()"
   ]
  }
 ],
 "metadata": {
  "kernelspec": {
   "display_name": "Python 3.6.13 ('gluon')",
   "language": "python",
   "name": "python3"
  },
  "language_info": {
   "codemirror_mode": {
    "name": "ipython",
    "version": 3
   },
   "file_extension": ".py",
   "mimetype": "text/x-python",
   "name": "python",
   "nbconvert_exporter": "python",
   "pygments_lexer": "ipython3",
   "version": "3.6.13"
  },
  "orig_nbformat": 4,
  "vscode": {
   "interpreter": {
    "hash": "9862ae77e9daaaf9c9239620ed827aad4ce184b3776eb7a3f75df899d88e405b"
   }
  }
 },
 "nbformat": 4,
 "nbformat_minor": 2
}
