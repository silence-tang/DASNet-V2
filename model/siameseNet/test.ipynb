{
 "cells": [
  {
   "cell_type": "code",
   "execution_count": 1,
   "metadata": {},
   "outputs": [],
   "source": [
    "import numpy as np\n",
    "import os\n",
    "import sys \n",
    "sys.path.append(\"../..\")\n",
    "import torch\n",
    "import torch.nn as nn\n",
    "import torch.utils.data as Data\n",
    "from torch.nn import functional as F\n",
    "import utils.transforms as trans\n",
    "import utils.utils as util\n",
    "import layer.loss as ls\n",
    "import utils.metric as mc\n",
    "import shutil\n",
    "import cv2\n",
    "\n",
    "import cfg.CDD as cfg\n",
    "import dataset.rs as dates\n",
    "import time\n",
    "import datetime\n",
    "from datetime import datetime\n",
    "import logging"
   ]
  },
  {
   "cell_type": "code",
   "execution_count": 32,
   "metadata": {},
   "outputs": [],
   "source": [
    "thres = np.linspace(0, 1, 5)   # array([0.  , 0.25, 0.5 , 0.75, 1.  ])\n",
    "gtBin = np.array([[True, False, False],\n",
    "                 [True, True, True],\n",
    "                 [False, False, True]])\n",
    "\n",
    "cur_prob = np.array([[0.7, 0.2, 0.4],\n",
    "                 [0.6, 0.8, 0.5],\n",
    "                 [0.3, 0.5, 0.9]])\n",
    "\n",
    "thresInf = np.concatenate(([-np.Inf], thres, [np.Inf]))   # array([-inf, 0.  , 0.25, 0.5 , 0.75, 1.  ,  inf])\n",
    "\n",
    "fnArray = cur_prob[(gtBin == True)]   # array([0.7, 0.6, 0.8, 0.5, 0.9])\n",
    "fnHist = np.histogram(fnArray, bins=thresInf)[0]  # array([0, 0, 0, 3, 2, 0], dtype=int64)\n",
    "fnCum = np.cumsum(fnHist)  # array([0, 0, 0, 3, 5, 5], dtype=int64)\n",
    "FN = fnCum[0:0 + len(thres)]   # array([0, 0, 0, 3, 5], dtype=int64)\n",
    "\n",
    "fpArray = cur_prob[(gtBin == False)]  # array([0.2, 0.4, 0.3, 0.5])\n",
    "fpHist = np.histogram(fpArray, bins=thresInf)[0]  # array([0, 1, 2, 1, 0, 0], dtype=int64)\n",
    "# 倒置求累计和再倒置回去\n",
    "fpCum = np.flipud(np.cumsum(np.flipud(fpHist))) # array([4, 4, 3, 1, 0, 0], dtype=int64)\n",
    "FP = fpCum[1:1 + len(thres)]  # array([4, 3, 1, 0, 0], dtype=int64)\n",
    "\n",
    "posNum = np.sum(gtBin == True)\n",
    "negNum = np.sum(gtBin == False)"
   ]
  }
 ],
 "metadata": {
  "kernelspec": {
   "display_name": "Python 3.6.13 ('gluon')",
   "language": "python",
   "name": "python3"
  },
  "language_info": {
   "codemirror_mode": {
    "name": "ipython",
    "version": 3
   },
   "file_extension": ".py",
   "mimetype": "text/x-python",
   "name": "python",
   "nbconvert_exporter": "python",
   "pygments_lexer": "ipython3",
   "version": "3.6.13"
  },
  "orig_nbformat": 4,
  "vscode": {
   "interpreter": {
    "hash": "9862ae77e9daaaf9c9239620ed827aad4ce184b3776eb7a3f75df899d88e405b"
   }
  }
 },
 "nbformat": 4,
 "nbformat_minor": 2
}
